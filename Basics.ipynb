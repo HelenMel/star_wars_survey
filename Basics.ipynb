{
 "cells": [
  {
   "cell_type": "code",
   "execution_count": 168,
   "metadata": {
    "collapsed": true
   },
   "outputs": [],
   "source": [
    "import pandas as pd\n",
    "star_wars = pd.read_csv(\"star_wars.csv\", encoding=\"ISO-8859-1\")"
   ]
  },
  {
   "cell_type": "code",
   "execution_count": 169,
   "metadata": {
    "collapsed": false
   },
   "outputs": [
    {
     "name": "stdout",
     "output_type": "stream",
     "text": [
      "Index(['RespondentID', 'seen', 'fan', 'seen_1', 'seen_2', 'seen_3', 'seen_4', 'seen_5', 'seen_6', 'rank_1', 'rank_2', 'rank_3', 'rank_4', 'rank_5', 'rank_6', 'Please state whether you view the following characters favorably, unfavorably, or are unfamiliar with him/her.', 'Unnamed: 16', 'Unnamed: 17', 'Unnamed: 18', 'Unnamed: 19', 'Unnamed: 20', 'Unnamed: 21', 'Unnamed: 22', 'Unnamed: 23', 'Unnamed: 24', 'Unnamed: 25', 'Unnamed: 26', 'Unnamed: 27', 'Unnamed: 28', 'Which character shot first?', 'seen_expanded', 'expand_fan', 'star_track_fan', 'Gender', 'Age', 'Household Income', 'Education', 'Location (Census Region)'], dtype='object')\n"
     ]
    }
   ],
   "source": [
    "names = { 'Have you seen any of the 6 films in the Star Wars franchise?':'seen', \n",
    "         'Do you consider yourself to be a fan of the Star Wars film franchise?':'fan',\n",
    "         'Do you consider yourself to be a fan of the Expanded Universe?ÂÃ¦':'expand_fan',\n",
    "         'Are you familiar with the Expanded Universe?':'seen_expanded',\n",
    "         'Which of the following Star Wars films have you seen? Please select all that apply.':\"seen_1\",\n",
    "         \"Unnamed: 4\":\"seen_2\",\n",
    "         \"Unnamed: 5\":\"seen_3\",\n",
    "         \"Unnamed: 6\":\"seen_4\",\n",
    "         \"Unnamed: 7\":\"seen_5\",\n",
    "         \"Unnamed: 8\":\"seen_6\",\n",
    "         \"Please rank the Star Wars films in order of preference with 1 being your favorite film in the franchise and 6 being your least favorite film.\":\"rank_1\",\n",
    "         \"Unnamed: 10\":\"rank_2\",\n",
    "         \"Unnamed: 11\":\"rank_3\",\n",
    "         \"Unnamed: 12\":\"rank_4\",\n",
    "         \"Unnamed: 13\":\"rank_5\",\n",
    "         \"Unnamed: 14\":\"rank_6\",\n",
    "         \"Do you consider yourself to be a fan of the Star Trek franchise?\":\"star_track_fan\",\n",
    "        }\n",
    "\n",
    "star_wars.rename(columns = names, inplace = True)\n",
    "print(star_wars.columns)"
   ]
  },
  {
   "cell_type": "code",
   "execution_count": 170,
   "metadata": {
    "collapsed": false
   },
   "outputs": [],
   "source": [
    "star_wars = star_wars[pd.notnull(star_wars[\"RespondentID\"])]"
   ]
  },
  {
   "cell_type": "code",
   "execution_count": 171,
   "metadata": {
    "collapsed": false
   },
   "outputs": [],
   "source": [
    "bool_converter = {'Yes':True, 'No':False}\n",
    "star_wars['seen'] = star_wars['seen'].map(bool_converter)\n",
    "star_wars['fan'] = star_wars['fan'].map(bool_converter)\n",
    "star_wars['star_track_fan'] = star_wars['star_track_fan'].map(bool_converter)"
   ]
  },
  {
   "cell_type": "code",
   "execution_count": 172,
   "metadata": {
    "collapsed": true
   },
   "outputs": [],
   "source": [
    "import numpy as np"
   ]
  },
  {
   "cell_type": "code",
   "execution_count": 173,
   "metadata": {
    "collapsed": true
   },
   "outputs": [],
   "source": [
    "def rename_bool_filed(name, column_name):\n",
    "    name_to_seen = {name: True, np.nan:False}\n",
    "    star_wars[column_name] = star_wars[column_name].map(name_to_seen)"
   ]
  },
  {
   "cell_type": "code",
   "execution_count": 174,
   "metadata": {
    "collapsed": false
   },
   "outputs": [],
   "source": [
    "rename_bool_filed('Star Wars: Episode I  The Phantom Menace', 'seen_1')\n",
    "rename_bool_filed('Star Wars: Episode II  Attack of the Clones', 'seen_2')\n",
    "rename_bool_filed('Star Wars: Episode III  Revenge of the Sith', 'seen_3')\n",
    "rename_bool_filed('Star Wars: Episode IV  A New Hope', 'seen_4')\n",
    "rename_bool_filed('Star Wars: Episode V The Empire Strikes Back', 'seen_5')\n",
    "rename_bool_filed('Star Wars: Episode VI Return of the Jedi', 'seen_6')"
   ]
  },
  {
   "cell_type": "code",
   "execution_count": 175,
   "metadata": {
    "collapsed": false
   },
   "outputs": [],
   "source": [
    "#print(star_wars.columns[9:15].value_counts)\n",
    "#print(star_wars.ix[:5, 9:15])\n",
    "star_wars[star_wars.columns[9:15]] = star_wars[star_wars.columns[9:15]].astype(float)"
   ]
  },
  {
   "cell_type": "code",
   "execution_count": 176,
   "metadata": {
    "collapsed": true
   },
   "outputs": [],
   "source": [
    "def mean_seen(column):\n",
    "    total = column.shape[0]\n",
    "    yes = column.sum()\n",
    "    return yes/total"
   ]
  },
  {
   "cell_type": "code",
   "execution_count": 177,
   "metadata": {
    "collapsed": false
   },
   "outputs": [],
   "source": [
    "import matplotlib.pyplot as plt\n",
    "%matplotlib inline"
   ]
  },
  {
   "cell_type": "code",
   "execution_count": 178,
   "metadata": {
    "collapsed": false
   },
   "outputs": [
    {
     "data": {
      "image/png": "[encoded data removed]",
      "text/plain": [
       "<matplotlib.figure.Figure at 0x7fb0c18a05f8>"
      ]
     },
     "metadata": {},
     "output_type": "display_data"
    }
   ],
   "source": [
    "fig, (ax, bx) = plt.subplots(1, 2)\n",
    "rank_mean = ax.bar(range(6), star_wars.ix[:, 9:15].mean())\n",
    "seen_mean_data = [mean_seen(star_wars.ix[:,x]) for x in range(3, 9)]\n",
    "seen_mean = bx.bar(range(6), seen_mean_data )\n",
    "plt.show()"
   ]
  },
  {
   "cell_type": "markdown",
   "metadata": {},
   "source": [
    "the 5th movie is the most popular, because it was one of the first movie people had seen, so it looks very good, with compare to others.s"
   ]
  },
  {
   "cell_type": "markdown",
   "metadata": {},
   "source": [
    "it looks like people haven't see much the 3 and 2 movies"
   ]
  },
  {
   "cell_type": "code",
   "execution_count": 179,
   "metadata": {
    "collapsed": true
   },
   "outputs": [],
   "source": [
    "males = star_wars[star_wars[\"Gender\"] == \"Male\"]\n",
    "females = star_wars[star_wars[\"Gender\"] == \"Female\"]\n",
    "fan = star_wars[star_wars[\"fan\"] == True]\n",
    "non_fan = star_wars[star_wars[\"fan\"] == False]\n",
    "track_fan = star_wars[star_wars['star_track_fan'] == True]\n",
    "track_not_fan = star_wars[star_wars['star_track_fan'] == False]"
   ]
  },
  {
   "cell_type": "code",
   "execution_count": 183,
   "metadata": {
    "collapsed": true
   },
   "outputs": [],
   "source": [
    "def show_comparing_plot(data_1, data_2):\n",
    "    fig, (ax, bx) = plt.subplots(1, 2)\n",
    "    N = 6\n",
    "    range_1 = range(N)\n",
    "    range_2 = [x + 0.5 for x in range(N)]\n",
    "    rank_mean_1 = ax.bar(range_1, data_1.ix[:, 9:15].mean(), color = 'b')\n",
    "    rank_mean_2 = ax.bar(range_2, data_2.ix[:, 9:15].mean(), color = 'r')\n",
    "    seen_mean_data_1 = [mean_seen(data_1.ix[:,x]) for x in range(3, 9)]\n",
    "    seen_mean_data_2 = [mean_seen(data_2.ix[:,x]) for x in range(3, 9)]\n",
    "    seen_mean_1 = bx.bar(range_1, seen_mean_data_1, color = 'b')\n",
    "    seen_mean_2 = bx.bar(range_2, seen_mean_data_2, color = 'r')\n",
    "    plt.show()   "
   ]
  },
  {
   "cell_type": "code",
   "execution_count": 185,
   "metadata": {
    "collapsed": false
   },
   "outputs": [
    {
     "data": {
      "image/png": "[encoded data removed]",
      "text/plain": [
       "<matplotlib.figure.Figure at 0x7fb0cc3323c8>"
      ]
     },
     "metadata": {},
     "output_type": "display_data"
    }
   ],
   "source": [
    "males = star_wars[star_wars[\"Gender\"] == \"Male\"]\n",
    "females = star_wars[star_wars[\"Gender\"] == \"Female\"]\n",
    "show_comparing_plot(males, females)"
   ]
  },
  {
   "cell_type": "markdown",
   "metadata": {},
   "source": [
    "There is no big difference between male/female results, except the fact, that women are less likely to watch this films.\n",
    "Only big differens in 4 movie. Women likes it less"
   ]
  },
  {
   "cell_type": "code",
   "execution_count": 186,
   "metadata": {
    "collapsed": false
   },
   "outputs": [
    {
     "data": {
      "image/png": "[encoded data removed]",
      "text/plain": [
       "<matplotlib.figure.Figure at 0x7fb0c1936278>"
      ]
     },
     "metadata": {},
     "output_type": "display_data"
    }
   ],
   "source": [
    "show_comparing_plot(fan, non_fan)"
   ]
  },
  {
   "cell_type": "markdown",
   "metadata": {},
   "source": [
    "Fan and non fan likes or rate movies very similar, except 4 movie. Non fans don't like it much more, than fans does."
   ]
  },
  {
   "cell_type": "code",
   "execution_count": 187,
   "metadata": {
    "collapsed": false
   },
   "outputs": [
    {
     "data": {
      "image/png": "[encoded data removed]",
      "text/plain": [
       "<matplotlib.figure.Figure at 0x7fb0cc2a3278>"
      ]
     },
     "metadata": {},
     "output_type": "display_data"
    }
   ],
   "source": [
    "show_comparing_plot(track_fan, track_not_fan)"
   ]
  },
  {
   "cell_type": "markdown",
   "metadata": {},
   "source": [
    "It shows us, that tastes for Star Track fans and Star Wars fans are very similar"
   ]
  }
 ],
 "metadata": {
  "kernelspec": {
   "display_name": "Python 3",
   "language": "python",
   "name": "python3"
  },
  "language_info": {
   "codemirror_mode": {
    "name": "ipython",
    "version": 3
   },
   "file_extension": ".py",
   "mimetype": "text/x-python",
   "name": "python",
   "nbconvert_exporter": "python",
   "pygments_lexer": "ipython3",
   "version": "3.4.3"
  }
 },
 "nbformat": 4,
 "nbformat_minor": 0
}
